{
 "cells": [
  {
   "cell_type": "code",
   "execution_count": null,
   "id": "85e66969",
   "metadata": {},
   "outputs": [],
   "source": [
    "Рост дочерей 175, 167, 154, 174, 178, 148, 160, 167, 169, 170\n",
    "Рост матерей 178, 165, 165, 173, 168, 155, 160, 164, 178, 175\n",
    "\n",
    "Используя эти данные построить 95% доверительный интервал для разности среднего\n",
    "роста родителей и детей."
   ]
  },
  {
   "cell_type": "code",
   "execution_count": 1,
   "id": "5fc760a7",
   "metadata": {},
   "outputs": [],
   "source": [
    "import numpy as np\n",
    "from statsmodels.stats.weightstats import _tconfint_generic as t_stat\n",
    "from scipy import stats"
   ]
  },
  {
   "cell_type": "code",
   "execution_count": 2,
   "id": "9e9b2d57",
   "metadata": {},
   "outputs": [],
   "source": [
    "a = np.array([175, 167, 154, 174, 178, 148, 160, 167, 169, 170])\n",
    "b = np.array([178, 165, 165, 173, 168, 155, 160, 164, 178, 175])"
   ]
  },
  {
   "cell_type": "code",
   "execution_count": 3,
   "id": "dd4b4ef7",
   "metadata": {},
   "outputs": [],
   "source": [
    "x_1 = np.mean(a)\n",
    "x_2 = np.mean(b)\n",
    "delta = x_1 - x_2"
   ]
  },
  {
   "cell_type": "code",
   "execution_count": 4,
   "id": "f89aee40",
   "metadata": {},
   "outputs": [],
   "source": [
    "n = len(a)\n",
    "D1 = np.var(a, ddof = 1)\n",
    "D2 = np.var(b, ddof = 1)\n",
    "\n",
    "D = (D1 + D2) / 2\n",
    "SE = np.sqrt(D/n + D/n)\n",
    "\n",
    "t = stats.t.ppf(0.975, 2 * (n - 1))\n",
    "\n",
    "result = (delta - t*SE, delta + t*SE)"
   ]
  },
  {
   "cell_type": "code",
   "execution_count": 5,
   "id": "7c094029",
   "metadata": {},
   "outputs": [
    {
     "name": "stdout",
     "output_type": "stream",
     "text": [
      "Доверительный интервал: (-10.068418034506857, 6.268418034506846)\n"
     ]
    }
   ],
   "source": [
    "print(f\"Доверительный интервал: {result}\")"
   ]
  },
  {
   "cell_type": "code",
   "execution_count": null,
   "id": "8f83f4c1",
   "metadata": {},
   "outputs": [],
   "source": []
  }
 ],
 "metadata": {
  "kernelspec": {
   "display_name": "Python 3 (ipykernel)",
   "language": "python",
   "name": "python3"
  },
  "language_info": {
   "codemirror_mode": {
    "name": "ipython",
    "version": 3
   },
   "file_extension": ".py",
   "mimetype": "text/x-python",
   "name": "python",
   "nbconvert_exporter": "python",
   "pygments_lexer": "ipython3",
   "version": "3.9.13"
  }
 },
 "nbformat": 4,
 "nbformat_minor": 5
}

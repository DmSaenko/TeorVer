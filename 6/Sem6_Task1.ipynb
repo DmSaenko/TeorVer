{
 "cells": [
  {
   "cell_type": "code",
   "execution_count": null,
   "id": "4a61d64e",
   "metadata": {},
   "outputs": [],
   "source": [
    "Задача 1. Известно, что генеральная совокупность распределена нормально\n",
    "со средним квадратическим отклонением, равным 16.\n",
    "Найти доверительный интервал для оценки математического ожидания с надежностью\n",
    "0.95,\n",
    "если выборочная средняя M = 80, а объем выборки n = 256."
   ]
  },
  {
   "cell_type": "code",
   "execution_count": 1,
   "id": "fead31ef",
   "metadata": {},
   "outputs": [],
   "source": [
    "import numpy as np\n",
    "from statsmodels.stats.weightstats import _tconfint_generic as t_stat\n",
    "from scipy import stats"
   ]
  },
  {
   "cell_type": "code",
   "execution_count": 2,
   "id": "2fc5b786",
   "metadata": {},
   "outputs": [],
   "source": [
    "m = 80\n",
    "sigma = 16\n",
    "n = 256\n",
    "p = 0.95\n",
    "alpha = 0.05\n",
    "z = stats.norm.ppf(alpha/2)"
   ]
  },
  {
   "cell_type": "code",
   "execution_count": 3,
   "id": "7788af15",
   "metadata": {},
   "outputs": [
    {
     "data": {
      "text/plain": [
       "(81.95996398454005, 78.04003601545995)"
      ]
     },
     "execution_count": 3,
     "metadata": {},
     "output_type": "execute_result"
    }
   ],
   "source": [
    "(m - z * sigma / np.sqrt(n), m + z * sigma / np.sqrt(n))"
   ]
  },
  {
   "cell_type": "code",
   "execution_count": null,
   "id": "63e6edc8",
   "metadata": {},
   "outputs": [],
   "source": [
    "Так как генеральная совокупность распределена нормально, \n",
    "то мы можем воспользоваться формулой доверительного интервала для среднего значения нормального распределения:\n",
    "\n",
    "Доверительный интервал = M ± Zcrit * (σ / √n),\n",
    "\n",
    "где M - выборочная средняя, σ - среднеквадратическое отклонение, \n",
    "n - объем выборки, Zкрит - критическое значение стандартного нормального распределения, соответствующее уровню доверия 0.95.\n",
    "\n",
    "Zcrit для уровня доверия 0.95 равен 1.96.\n",
    "\n",
    "Подставляя значения в формулу, получаем:\n",
    "\n",
    "Доверительный интервал = 80 ± 1.96 * (16 / √256) = 80 ± 1.96 * 1 = [78.04, 81.96].\n",
    "\n",
    "Таким образом, с вероятностью 0.95 можно утверждать, \n",
    "что истинное значение математического ожидания лежит в интервале от 78.04 до 81.96."
   ]
  }
 ],
 "metadata": {
  "kernelspec": {
   "display_name": "Python 3 (ipykernel)",
   "language": "python",
   "name": "python3"
  },
  "language_info": {
   "codemirror_mode": {
    "name": "ipython",
    "version": 3
   },
   "file_extension": ".py",
   "mimetype": "text/x-python",
   "name": "python",
   "nbconvert_exporter": "python",
   "pygments_lexer": "ipython3",
   "version": "3.9.13"
  }
 },
 "nbformat": 4,
 "nbformat_minor": 5
}

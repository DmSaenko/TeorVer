{
 "cells": [
  {
   "cell_type": "code",
   "execution_count": null,
   "id": "f8e4a8f1",
   "metadata": {},
   "outputs": [],
   "source": [
    "# Провести дисперсионный анализ для определения того, есть ли различия среднего роста среди взрослых футболистов, хоккеистов и штангистов.\n",
    "# Даны значения роста в трех группах случайно выбранных спортсменов:\n",
    "\n",
    "# Футболисты: 173, 175, 180, 178, 177, 185, 183, 182.\n",
    "\n",
    "# Хоккеисты: 177, 179, 180, 188, 177, 172, 171, 184, 180.\n",
    "\n",
    "# Штангисты: 172, 173, 169, 177, 166, 180, 178, 177, 172, 166, 170."
   ]
  },
  {
   "cell_type": "code",
   "execution_count": 1,
   "id": "e04822ae",
   "metadata": {},
   "outputs": [
    {
     "ename": "ModuleNotFoundError",
     "evalue": "No module named 'scipy'",
     "output_type": "error",
     "traceback": [
      "\u001b[1;31m---------------------------------------------------------------------------\u001b[0m",
      "\u001b[1;31mModuleNotFoundError\u001b[0m                       Traceback (most recent call last)",
      "Cell \u001b[1;32mIn[1], line 2\u001b[0m\n\u001b[0;32m      1\u001b[0m \u001b[39mimport\u001b[39;00m \u001b[39mnumpy\u001b[39;00m \u001b[39mas\u001b[39;00m \u001b[39mnp\u001b[39;00m\n\u001b[1;32m----> 2\u001b[0m \u001b[39mfrom\u001b[39;00m \u001b[39mscipy\u001b[39;00m\u001b[39m.\u001b[39;00m\u001b[39mstats\u001b[39;00m \u001b[39mimport\u001b[39;00m f\n",
      "\u001b[1;31mModuleNotFoundError\u001b[0m: No module named 'scipy'"
     ]
    }
   ],
   "source": [
    "import numpy as np\n",
    "from scipy.stats import f"
   ]
  },
  {
   "cell_type": "code",
   "execution_count": 2,
   "id": "0df2c774",
   "metadata": {},
   "outputs": [],
   "source": [
    "football_players = np.array([173, 175, 180, 178, 177, 185, 183, 182])\n",
    "hockey_players = np.array([177, 179, 180, 188, 177, 172, 171, 184, 180])\n",
    "weightlifters = np.array([172, 173, 169, 177, 166, 180, 178, 177, 172, 166, 170])\n"
   ]
  },
  {
   "cell_type": "code",
   "execution_count": null,
   "id": "1d5cd623",
   "metadata": {},
   "outputs": [],
   "source": [
    "# Находим средние значения для каждой группы:\n",
    "m1 = football_players.mean()\n",
    "m2 = hockey_players.mean()\n",
    "m3 = weightlifters.mean()"
   ]
  },
  {
   "cell_type": "code",
   "execution_count": null,
   "id": "218b8250",
   "metadata": {},
   "outputs": [],
   "source": [
    "# Находим общее среднее значение роста:\n",
    "Y = np.concatenate([football_players, hockey_players, weightlifters])\n",
    "m = Y.mean()    "
   ]
  },
  {
   "cell_type": "code",
   "execution_count": null,
   "id": "0fb244d5",
   "metadata": {},
   "outputs": [],
   "source": [
    "# Вычисляем сумму квадратов отклонений:\n",
    "\n",
    "S1 = ((football_players - m1)**2).sum()\n",
    "S2 = ((hockey_players - m2)**2).sum()\n",
    "S3 = ((weightlifters - m3)**2).sum()\n",
    "Sy = ((Y - m)**2).sum()"
   ]
  },
  {
   "cell_type": "code",
   "execution_count": null,
   "id": "87c5d267",
   "metadata": {},
   "outputs": [],
   "source": [
    "# Вычисляем факторную дисперсию:\n",
    "Sost = Sy - Sf\n",
    "dfn = k - 1\n",
    "dfd = Y.size - k"
   ]
  },
  {
   "cell_type": "code",
   "execution_count": null,
   "id": "10c5fb64",
   "metadata": {},
   "outputs": [],
   "source": [
    "# Определяем статистику критерия Фишера:\n",
    "F = (Sf / dfn) / (Sost / dfd)"
   ]
  },
  {
   "cell_type": "code",
   "execution_count": null,
   "id": "b45cbd27",
   "metadata": {},
   "outputs": [],
   "source": [
    "# Определяем p-уровень значимости:\n",
    "p = 1 - f.cdf(F, dfn, dfd)\n",
    "alpha = 0.05\n",
    "if p < alpha:\n",
    "    print(\"Различия в среднем росте спортсменов статистически значимы\")\n",
    "else:\n",
    "    print(\"Различий в среднем росте спортсменов не выявлено\")"
   ]
  },
  {
   "cell_type": "code",
   "execution_count": null,
   "id": "66f292c6",
   "metadata": {},
   "outputs": [],
   "source": []
  }
 ],
 "metadata": {
  "kernelspec": {
   "display_name": "Python 3 (ipykernel)",
   "language": "python",
   "name": "python3"
  },
  "language_info": {
   "codemirror_mode": {
    "name": "ipython",
    "version": 3
   },
   "file_extension": ".py",
   "mimetype": "text/x-python",
   "name": "python",
   "nbconvert_exporter": "python",
   "pygments_lexer": "ipython3",
   "version": "3.11.1"
  }
 },
 "nbformat": 4,
 "nbformat_minor": 5
}

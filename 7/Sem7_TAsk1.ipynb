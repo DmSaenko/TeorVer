{
 "cells": [
  {
   "cell_type": "code",
   "execution_count": null,
   "id": "0dd7a42e",
   "metadata": {},
   "outputs": [],
   "source": [
    "Задача 1. Даны две независимые выборки. Не соблюдается условие нормальности\n",
    "x1 380,420, 290\n",
    "y1 140,360,200,900\n",
    "Сделайте вывод по результатам, полученным с помощью функции, \n",
    "имеются ли статистические различия между группами?"
   ]
  },
  {
   "cell_type": "code",
   "execution_count": 1,
   "id": "98d7cbbd",
   "metadata": {},
   "outputs": [],
   "source": [
    "import numpy as np\n",
    "import scipy.stats as stats"
   ]
  },
  {
   "cell_type": "code",
   "execution_count": 2,
   "id": "51a244b9",
   "metadata": {},
   "outputs": [
    {
     "data": {
      "text/plain": [
       "MannwhitneyuResult(statistic=8.0, pvalue=0.6285714285714286)"
      ]
     },
     "execution_count": 2,
     "metadata": {},
     "output_type": "execute_result"
    }
   ],
   "source": [
    "x1 = np.array([380, 420, 290])\n",
    "y1 = np.array([140, 360, 200, 900])\n",
    "\n",
    "stats.mannwhitneyu(x1, y1)"
   ]
  },
  {
   "cell_type": "code",
   "execution_count": null,
   "id": "a49887dc",
   "metadata": {},
   "outputs": [],
   "source": [
    "pvalue > alpha, H0 - не отвергается с ошибкой alpha = 0.05, выборки статистически одинаковые"
   ]
  }
 ],
 "metadata": {
  "kernelspec": {
   "display_name": "Python 3 (ipykernel)",
   "language": "python",
   "name": "python3"
  },
  "language_info": {
   "codemirror_mode": {
    "name": "ipython",
    "version": 3
   },
   "file_extension": ".py",
   "mimetype": "text/x-python",
   "name": "python",
   "nbconvert_exporter": "python",
   "pygments_lexer": "ipython3",
   "version": "3.9.13"
  }
 },
 "nbformat": 4,
 "nbformat_minor": 5
}

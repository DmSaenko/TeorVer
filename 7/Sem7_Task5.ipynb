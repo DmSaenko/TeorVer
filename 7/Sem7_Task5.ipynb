{
 "cells": [
  {
   "cell_type": "code",
   "execution_count": null,
   "id": "bfcb410a",
   "metadata": {},
   "outputs": [],
   "source": [
    "Задача 5. Заявляется, что партия изготавливается со средним арифметическим 2,5 см. Проверить\n",
    "данную гипотезу, если известно, что размеры изделий подчинены нормальному закону\n",
    "распределения. Объем выборки 10, уровень статистической значимости 5%\n",
    "2.51, 2.35, 2.74, 2.56, 2.40, 2.36, 2.65, 2.7, 2.67, 2.34"
   ]
  },
  {
   "cell_type": "code",
   "execution_count": 1,
   "id": "20998ca1",
   "metadata": {},
   "outputs": [],
   "source": [
    "import numpy as np\n",
    "import scipy.stats as stats"
   ]
  },
  {
   "cell_type": "code",
   "execution_count": 2,
   "id": "eff8636b",
   "metadata": {},
   "outputs": [
    {
     "data": {
      "text/plain": [
       "0.563061366180296"
      ]
     },
     "execution_count": 2,
     "metadata": {},
     "output_type": "execute_result"
    }
   ],
   "source": [
    "X = np.array([2.51, 2.35, 2.74, 2.56, 2.40, 2.36, 2.65, 2.7, 2.67, 2.34])\n",
    "\n",
    "mean = X.mean()\n",
    "std = X.std(ddof=1)\n",
    "\n",
    "t_fact = (mean - 2.5) / std * np.sqrt(len(X))\n",
    "t_fact"
   ]
  },
  {
   "cell_type": "code",
   "execution_count": null,
   "id": "424716fe",
   "metadata": {},
   "outputs": [],
   "source": [
    "По таблице для критерия Стьюдента находим t = 1.833 (для = 0.05 и 9 степенями свободы).\n",
    "Так как t > t_fact (1.833 > 0.56), то гипотеза верна и изделия соответствуют заявленному размеру."
   ]
  },
  {
   "cell_type": "code",
   "execution_count": 4,
   "id": "e96a4be5",
   "metadata": {},
   "outputs": [
    {
     "name": "stdout",
     "output_type": "stream",
     "text": [
      "t теор = 2.26\n",
      "t рассч = 0.563\n"
     ]
    }
   ],
   "source": [
    "n = 10\n",
    "m = 2.5\n",
    "\n",
    "t = stats.t.ppf(0.975, 9)\n",
    "print(f\"t теор = {t:.2f}\")\n",
    "\n",
    "t = (mean - m) * np.sqrt(n) / std\n",
    "print(f\"t рассч = {t:.3f}\")\n"
   ]
  },
  {
   "cell_type": "code",
   "execution_count": null,
   "id": "795f959d",
   "metadata": {},
   "outputs": [],
   "source": [
    "так как t теор > t рассч, считаем что нулевая гипотеза верна"
   ]
  },
  {
   "cell_type": "code",
   "execution_count": null,
   "id": "f0ef46b1",
   "metadata": {},
   "outputs": [],
   "source": []
  }
 ],
 "metadata": {
  "kernelspec": {
   "display_name": "Python 3 (ipykernel)",
   "language": "python",
   "name": "python3"
  },
  "language_info": {
   "codemirror_mode": {
    "name": "ipython",
    "version": 3
   },
   "file_extension": ".py",
   "mimetype": "text/x-python",
   "name": "python",
   "nbconvert_exporter": "python",
   "pygments_lexer": "ipython3",
   "version": "3.9.13"
  }
 },
 "nbformat": 4,
 "nbformat_minor": 5
}

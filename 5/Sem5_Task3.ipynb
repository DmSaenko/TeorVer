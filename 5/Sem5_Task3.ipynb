{
 "cells": [
  {
   "cell_type": "code",
   "execution_count": 1,
   "id": "28522b06",
   "metadata": {},
   "outputs": [],
   "source": [
    "# Задача 3. Проведите тест гипотезы. Продавец утверждает, что средний вес пачки печенья\n",
    "# составляет 200 г.\n",
    "# Из партии извлечена выборка из 10 пачек. Вес каждой пачки составляет:\n",
    "# 202, 203, 199, 197, 195, 201, 200, 204, 194, 190.\n",
    "# Известно, что их веса распределены нормально.\n",
    "# Верно ли утверждение продавца, если учитывать, что доверительная вероятность равна\n",
    "# 99%? (Провести двусторонний тест.)"
   ]
  },
  {
   "cell_type": "code",
   "execution_count": 2,
   "id": "e9edf1c6",
   "metadata": {},
   "outputs": [],
   "source": [
    "import numpy as np\n",
    "from scipy import stats"
   ]
  },
  {
   "cell_type": "code",
   "execution_count": 3,
   "id": "5d471d45",
   "metadata": {},
   "outputs": [],
   "source": [
    "x = np.array([202, 203, 199, 197, 195, 201, 200, 204, 194, 190])\n",
    "x_mean = x.mean()\n",
    "x_std = x.std(ddof = 1)"
   ]
  },
  {
   "cell_type": "code",
   "execution_count": 4,
   "id": "38d1fc8c",
   "metadata": {},
   "outputs": [
    {
     "data": {
      "text/plain": [
       "-1.0651074037450896"
      ]
     },
     "execution_count": 4,
     "metadata": {},
     "output_type": "execute_result"
    }
   ],
   "source": [
    "fact = (x_mean - 200) / x_std * np.sqrt(10)\n",
    "fact"
   ]
  },
  {
   "cell_type": "code",
   "execution_count": 5,
   "id": "b5c99edb",
   "metadata": {},
   "outputs": [
    {
     "data": {
      "text/plain": [
       "3.25"
      ]
     },
     "execution_count": 5,
     "metadata": {},
     "output_type": "execute_result"
    }
   ],
   "source": [
    "crit = 3.25\n",
    "crit"
   ]
  },
  {
   "cell_type": "code",
   "execution_count": 6,
   "id": "48321eb9",
   "metadata": {},
   "outputs": [
    {
     "data": {
      "text/plain": [
       "3.2498355440153697"
      ]
     },
     "execution_count": 6,
     "metadata": {},
     "output_type": "execute_result"
    }
   ],
   "source": [
    "stats.t.ppf(1 - 0.01 / 2, df = len(x) - 1)"
   ]
  },
  {
   "cell_type": "code",
   "execution_count": 7,
   "id": "3503eb51",
   "metadata": {},
   "outputs": [],
   "source": [
    "# так как crit > fact, нулевая гипотеза принимается"
   ]
  },
  {
   "cell_type": "code",
   "execution_count": null,
   "id": "592bea92",
   "metadata": {},
   "outputs": [],
   "source": [
    "# За нулевую гипотезу H0 будем принимать утверждение продавца: средний вес пачки печенья равен 200 г.\n",
    "# За альтернативную гипотезу H1 будем принимать, что средний вес пачки печенья не равен 200 г.\n",
    "\n",
    "# Для двустороннего теста с уровнем значимости alpha=0.01 (доверительная вероятность 99%) \n",
    "# найдем критическое значение t-критерия Стьюдента crit = 3.250\n",
    "\n",
    "# Вычислим значение t-статистики:\n",
    "# fact = -1.08\n",
    "\n",
    "# Так как crit > fact , то значение crit не попадает в критическую область, \n",
    "# и мы не можем отвергнуть нулевую гипотезу H0 на уровне значимости 0.01.\n",
    "\n",
    "# Следовательно, нет оснований считать, что средний вес пачки печенья отличается от 200 г при доверительной вероятности 99%."
   ]
  }
 ],
 "metadata": {
  "kernelspec": {
   "display_name": "Python 3 (ipykernel)",
   "language": "python",
   "name": "python3"
  },
  "language_info": {
   "codemirror_mode": {
    "name": "ipython",
    "version": 3
   },
   "file_extension": ".py",
   "mimetype": "text/x-python",
   "name": "python",
   "nbconvert_exporter": "python",
   "pygments_lexer": "ipython3",
   "version": "3.9.13"
  }
 },
 "nbformat": 4,
 "nbformat_minor": 5
}

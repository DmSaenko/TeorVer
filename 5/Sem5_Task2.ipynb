{
 "cells": [
  {
   "cell_type": "code",
   "execution_count": 3,
   "id": "de98d0e7",
   "metadata": {},
   "outputs": [],
   "source": [
    "# Проведите тест гипотезы. Утверждается, что шарики для подшипников, изготовленные\n",
    "# автоматическим станком, имеют средний диаметр 17 мм.\n",
    "# Используя односторонний критерий с α=0,05, проверить эту гипотезу, если в выборке из\n",
    "# n=100 шариков средний диаметр\n",
    "# оказался равным 17.5 мм, а дисперсия известна и равна 4 кв. мм."
   ]
  },
  {
   "cell_type": "code",
   "execution_count": 4,
   "id": "04e6f88e",
   "metadata": {},
   "outputs": [],
   "source": [
    "import numpy as np\n",
    "from scipy import stats"
   ]
  },
  {
   "cell_type": "code",
   "execution_count": 5,
   "id": "17aa43df",
   "metadata": {},
   "outputs": [
    {
     "data": {
      "text/plain": [
       "2.5"
      ]
     },
     "execution_count": 5,
     "metadata": {},
     "output_type": "execute_result"
    }
   ],
   "source": [
    "z_h = (17.5 - 17)/(2 / np.sqrt(100))\n",
    "z_h"
   ]
  },
  {
   "cell_type": "code",
   "execution_count": 6,
   "id": "bcb83835",
   "metadata": {},
   "outputs": [
    {
     "data": {
      "text/plain": [
       "1.6448536269514722"
      ]
     },
     "execution_count": 6,
     "metadata": {},
     "output_type": "execute_result"
    }
   ],
   "source": [
    "alpha = 0.05\n",
    "stats.norm.ppf(1 - alpha)"
   ]
  },
  {
   "cell_type": "code",
   "execution_count": 9,
   "id": "c891d661",
   "metadata": {},
   "outputs": [],
   "source": [
    "# так как наблюдаемое значение больше табличного\n",
    "# что гипотеза H0 не верная\n",
    "# принимается гипотеза H1"
   ]
  },
  {
   "cell_type": "code",
   "execution_count": 7,
   "id": "e8bdf294",
   "metadata": {},
   "outputs": [],
   "source": [
    "# Начнем с формулировки нулевой и альтернативной гипотезы:\n",
    "# H0: μ = 17 (средний диаметр шариков равен 17 мм) \n",
    "# H1: μ > 17 (средний диаметр шариков больше 17 мм)\n",
    "# Здесь μ - среднее значение диаметра в генеральной совокупности.\n",
    "# Для проверки гипотезы используем t-критерий Стьюдента, так как значение дисперсии известно. \n",
    "# Посчитаем значение t-статистики:\n",
    "# t = (x - μ) / (s / sqrt(n)),\n",
    "# где x = 17.5 мм - выборочное среднее, s = sqrt(4) = 2 мм - выборочное стандартное отклонение, \n",
    "# n = 100 - объем выборки.\n",
    "# Подставляем значения и получаем:\n",
    "# t = (17.5 - 17) / (2 / sqrt(100)) = 2.5\n",
    "# Значение t-статистики попадает в критическую область при уровне значимости α = 0.05 и числе степеней свободы df = n - 1 = 99. \n",
    "# При таких параметрах критическое значение t-статистики равно 1.66.\n",
    "# Таким образом, мы получаем, что 2.5 > 1.66, что означает, \n",
    "# что мы отвергаем нулевую гипотезу и принимаем альтернативную. То есть, у нас есть статистически значимые данные, \n",
    "# чтобы сделать вывод о том, что средний диаметр шариков для подшипников, изготовленных автоматическим станком, больше 17 мм.\n"
   ]
  },
  {
   "cell_type": "code",
   "execution_count": null,
   "id": "5826f0be",
   "metadata": {},
   "outputs": [],
   "source": []
  }
 ],
 "metadata": {
  "kernelspec": {
   "display_name": "Python 3 (ipykernel)",
   "language": "python",
   "name": "python3"
  },
  "language_info": {
   "codemirror_mode": {
    "name": "ipython",
    "version": 3
   },
   "file_extension": ".py",
   "mimetype": "text/x-python",
   "name": "python",
   "nbconvert_exporter": "python",
   "pygments_lexer": "ipython3",
   "version": "3.9.13"
  }
 },
 "nbformat": 4,
 "nbformat_minor": 5
}

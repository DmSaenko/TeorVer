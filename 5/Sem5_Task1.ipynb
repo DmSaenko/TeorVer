{
 "cells": [
  {
   "cell_type": "code",
   "execution_count": null,
   "id": "6d145fbf",
   "metadata": {},
   "outputs": [],
   "source": [
    "Задача 1. Когда используется критерий Стьюдента, а когда Z –критерий?\n",
    "\n",
    "Z –критерий используется, когда известна Сигма генеральной совокупности, \n",
    "если она не изветсна то испольуют критерий Стьюдента t.\n",
    "Наиболее часто t-критерии применяются для проверки равенства средних значений в двух выборках\n",
    "Нулевая гипотеза предполагает, что средние равны (отрицание этого предположения называют гипотезой сдвига).\n",
    "Z –критерий обычно применяется для проверки равенства средних значений при\n",
    "известной дисперсии генеральной совокупности или при оценке выборочного среднего стандартизованных значений"
   ]
  },
  {
   "cell_type": "code",
   "execution_count": null,
   "id": "9625e6a7",
   "metadata": {},
   "outputs": [],
   "source": []
  }
 ],
 "metadata": {
  "kernelspec": {
   "display_name": "Python 3 (ipykernel)",
   "language": "python",
   "name": "python3"
  },
  "language_info": {
   "codemirror_mode": {
    "name": "ipython",
    "version": 3
   },
   "file_extension": ".py",
   "mimetype": "text/x-python",
   "name": "python",
   "nbconvert_exporter": "python",
   "pygments_lexer": "ipython3",
   "version": "3.9.13"
  }
 },
 "nbformat": 4,
 "nbformat_minor": 5
}
